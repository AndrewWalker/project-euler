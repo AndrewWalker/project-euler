{
 "cells": [
  {
   "cell_type": "code",
   "execution_count": 230,
   "metadata": {
    "collapsed": false
   },
   "outputs": [
    {
     "name": "stdout",
     "output_type": "stream",
     "text": [
      "453647705\n"
     ]
    }
   ],
   "source": [
    "cnt = 0\n",
    "for p in sympy.primerange(1,100000):\n",
    "    fnd = False\n",
    "    for n in xrange(1, 20):\n",
    "        if pow(10, 10**n, 9*p) == 1:\n",
    "            fnd = True\n",
    "            break\n",
    "    if not fnd:\n",
    "        cnt += p\n",
    "print cnt"
   ]
  },
  {
   "cell_type": "code",
   "execution_count": null,
   "metadata": {
    "collapsed": true
   },
   "outputs": [],
   "source": []
  }
 ],
 "metadata": {
  "kernelspec": {
   "display_name": "Python 2",
   "language": "python",
   "name": "python2"
  },
  "language_info": {
   "codemirror_mode": {
    "name": "ipython",
    "version": 2
   },
   "file_extension": ".py",
   "mimetype": "text/x-python",
   "name": "python",
   "nbconvert_exporter": "python",
   "pygments_lexer": "ipython2",
   "version": "2.7.12"
  }
 },
 "nbformat": 4,
 "nbformat_minor": 1
}
