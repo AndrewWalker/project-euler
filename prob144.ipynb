{
 "cells": [
  {
   "cell_type": "markdown",
   "metadata": {},
   "source": [
    "https://projecteuler.net/problem=144"
   ]
  },
  {
   "cell_type": "markdown",
   "metadata": {},
   "source": [
    "## Problem Setup"
   ]
  },
  {
   "cell_type": "code",
   "execution_count": 134,
   "metadata": {
    "collapsed": false
   },
   "outputs": [
    {
     "data": {
      "text/plain": [
       "4*p**2 + q**2 + t**2*(4*vx**2 + vy**2) + t*(8*p*vx + 2*q*vy) - 100"
      ]
     },
     "execution_count": 134,
     "metadata": {},
     "output_type": "execute_result"
    }
   ],
   "source": [
    "import sympy\n",
    "\n",
    "x, y, vx, vy, p, q, t = sympy.symbols('x y vx vy p q t')\n",
    "eq0 = 4*x**2 + y**2 - 100\n",
    "eq1 = vx*t + p\n",
    "eq2 = vy*t + q\n",
    "\n",
    "eq = eq0.subs(dict(x = eq1, y = eq2))\n",
    "sympy.collect(sympy.expand(eq), t)"
   ]
  },
  {
   "cell_type": "code",
   "execution_count": 146,
   "metadata": {
    "collapsed": true
   },
   "outputs": [],
   "source": [
    "from numpy import *"
   ]
  },
  {
   "cell_type": "code",
   "execution_count": 147,
   "metadata": {
    "collapsed": false
   },
   "outputs": [],
   "source": [
    "def vlen(x):\n",
    "    return sqrt(dot(x,x))\n",
    "\n",
    "def vnorm(x):\n",
    "    return x/vlen(x)\n",
    "\n",
    "def normal(x):\n",
    "    return -vnorm(array([4.0* x[0], x[1]]))\n",
    "\n",
    "def reflected_ray(n, v):\n",
    "    return v - 2*dot(v, n)*n\n",
    "\n",
    "def intersection(x, v):\n",
    "    a = 4*v[0]**2 + v[1]**2\n",
    "    b = 8*v[0]*x[0] + 2*v[1]*x[1]\n",
    "    c = 4*x[0]**2 + x[1]**2 - 100\n",
    "    det = b**2 - 4*a*c\n",
    "    t_1 = (-b + sqrt(det))/(2*a)\n",
    "    t_2 = (-b - sqrt(det))/(2*a)\n",
    "    t_max = max(t_1, t_2)\n",
    "    return x+v*t_max"
   ]
  },
  {
   "cell_type": "code",
   "execution_count": 148,
   "metadata": {
    "collapsed": false
   },
   "outputs": [],
   "source": [
    "x0 = array([0.0, 10.1])\n",
    "x1 = array([1.4, -9.6])\n",
    "dx = x1-x0\n",
    "v0 = dx / vlen(dx)"
   ]
  },
  {
   "cell_type": "code",
   "execution_count": 151,
   "metadata": {
    "collapsed": false
   },
   "outputs": [
    {
     "name": "stdout",
     "output_type": "stream",
     "text": [
      "354\n"
     ]
    }
   ],
   "source": [
    "xn = x1.copy()\n",
    "vn = v0.copy()\n",
    "for i in xrange(1000):\n",
    "    n  = normal(xn)\n",
    "    vm = reflected_ray(n, vn)\n",
    "    xm = intersection(xn, vm)\n",
    "    if xm[1] > 0 and xm[0] > -0.01 and xm[0] < 0.01:\n",
    "        print i+1\n",
    "        break\n",
    "    xn = xm.copy()\n",
    "    vn = vm.copy()"
   ]
  }
 ],
 "metadata": {
  "kernelspec": {
   "display_name": "Python 2",
   "language": "python",
   "name": "python2"
  },
  "language_info": {
   "codemirror_mode": {
    "name": "ipython",
    "version": 2
   },
   "file_extension": ".py",
   "mimetype": "text/x-python",
   "name": "python",
   "nbconvert_exporter": "python",
   "pygments_lexer": "ipython2",
   "version": "2.7.12"
  }
 },
 "nbformat": 4,
 "nbformat_minor": 1
}
