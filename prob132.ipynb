{
 "cells": [
  {
   "cell_type": "markdown",
   "metadata": {},
   "source": [
    "My solution to this problem was horrible, but looking at the forum, this was a very useful post (especially for solving 133).\n",
    "\n",
    "Since $R(k)=(10^k-1)/9$, the remainder of $10^k$ and $9*n$\n",
    "has to be 1, if $R(k)$ can be divided by n.  I then check\n",
    "which primes divide $10^k$, where $k=10^9$."
   ]
  },
  {
   "cell_type": "code",
   "execution_count": 31,
   "metadata": {
    "collapsed": false
   },
   "outputs": [],
   "source": [
    "import sympy\n",
    "import itertools"
   ]
  },
  {
   "cell_type": "code",
   "execution_count": 32,
   "metadata": {
    "collapsed": false
   },
   "outputs": [
    {
     "name": "stdout",
     "output_type": "stream",
     "text": [
      "843296\n"
     ]
    }
   ],
   "source": [
    "primes = ( p for p in itertools.count(2) if sympy.isprime(p) )\n",
    "s = n = 0\n",
    "for p in primes:\n",
    "    if pow(10, 10**9, 9*p)==1:\n",
    "        n += 1\n",
    "        s += p\n",
    "        if n==40: break\n",
    "print s"
   ]
  },
  {
   "cell_type": "code",
   "execution_count": null,
   "metadata": {
    "collapsed": true
   },
   "outputs": [],
   "source": []
  }
 ],
 "metadata": {
  "kernelspec": {
   "display_name": "Python 2",
   "language": "python",
   "name": "python2"
  },
  "language_info": {
   "codemirror_mode": {
    "name": "ipython",
    "version": 2
   },
   "file_extension": ".py",
   "mimetype": "text/x-python",
   "name": "python",
   "nbconvert_exporter": "python",
   "pygments_lexer": "ipython2",
   "version": "2.7.12"
  }
 },
 "nbformat": 4,
 "nbformat_minor": 1
}
